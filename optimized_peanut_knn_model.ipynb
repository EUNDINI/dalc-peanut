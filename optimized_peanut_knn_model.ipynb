{
  "cells": [
    {
      "cell_type": "markdown",
      "metadata": {
        "id": "view-in-github",
        "colab_type": "text"
      },
      "source": [
        "<a href=\"https://colab.research.google.com/github/kmsaidev/dalc-peanut/blob/ai/optimized_peanut_knn_model.ipynb\" target=\"_parent\"><img src=\"https://colab.research.google.com/assets/colab-badge.svg\" alt=\"Open In Colab\"/></a>"
      ]
    },
    {
      "cell_type": "code",
      "execution_count": 1,
      "metadata": {
        "id": "SNtN1jgY4dZ_"
      },
      "outputs": [],
      "source": [
        "import sys\n",
        "import numpy as np\n",
        "from sklearn.neighbors import KNeighborsClassifier\n",
        "from sklearn.model_selection import cross_val_score\n",
        "import matplotlib.pyplot as plt \n",
        "import joblib"
      ]
    },
    {
      "cell_type": "code",
      "execution_count": 2,
      "metadata": {
        "colab": {
          "base_uri": "https://localhost:8080/"
        },
        "id": "76_6avcR9G-1",
        "outputId": "dc16815c-0ac3-4319-b7e8-1587886e480c"
      },
      "outputs": [
        {
          "output_type": "stream",
          "name": "stdout",
          "text": [
            "Mounted at /content/drive\n"
          ]
        }
      ],
      "source": [
        "from google.colab import drive\n",
        "drive.mount('/content/drive')"
      ]
    },
    {
      "cell_type": "code",
      "source": [
        "r = []\n",
        "g = []\n",
        "b = []\n",
        "color_target = []\n",
        "cnt = 0\n",
        "with open(\"/content/drive/MyDrive/dalc_peanut/color_hex.txt\", 'r') as input:\n",
        "  lines = input.read().splitlines()\n",
        "  for line in lines:\n",
        "    line = line.replace(' ', '')\n",
        "    if line == \"\":\n",
        "        continue\n",
        "    elif line[-1] != '1' and line[-1] != '2' and line[-1] != '3' and line[-1] != '4':\n",
        "        continue\n",
        "    else:\n",
        "        cnt+=1\n",
        "        color_info = line.split(',')\n",
        "        r.append(int(color_info[0][1:3], 16))\n",
        "        g.append(int(color_info[0][3:5], 16))\n",
        "        b.append(int(color_info[0][5:7], 16))\n",
        "        color_target.append(int(color_info[1]))\n",
        "color_data = [[r, g, b] for r, g, b in zip(r, g, b)]\n",
        "\n",
        "input = np.array(color_data)\n",
        "target = np.array(color_target)\n",
        "np.random.seed(42)\n",
        "index = np.arange(cnt)\n",
        "np.random.shuffle(index)\n",
        "\n",
        "train_input = input[index[:900]]\n",
        "train_target = target[index[:900]]\n",
        "\n",
        "test_input = input[index[900:]]\n",
        "test_target = target[index[900:]]\n"
      ],
      "metadata": {
        "id": "nGrsiMW1RyHl"
      },
      "execution_count": 3,
      "outputs": []
    },
    {
      "cell_type": "code",
      "source": [
        "from sklearn.model_selection import cross_val_score\n",
        "k_range = input.shape[0]//2             \n",
        "k_list = []                \n",
        "\n",
        "for i in range(3, k_range, 2):\n",
        "  k_list.append(i)\n",
        "\n",
        "# print(k_list)"
      ],
      "metadata": {
        "id": "n74Sf_anwcqy"
      },
      "execution_count": 4,
      "outputs": []
    },
    {
      "cell_type": "code",
      "source": [
        "# 최종 모델\n",
        "\n",
        "knn = KNeighborsClassifier(n_neighbors=3)\n",
        "final_scores = cross_val_score(knn, input, target, cv =10 , scoring = 'accuracy')\n",
        "k_scores = final_scores.mean()\n",
        "\n",
        "# print(round(k_scores,3)) // 0.608\n",
        "\n",
        "knn = KNeighborsClassifier(n_neighbors=3)            \n",
        "knn.fit(train_input, train_target)\n",
        "joblib.dump(knn, './optimized_peanut_knn_model.pkl')\n",
        "#knn.score(test_input, test_target)"
      ],
      "metadata": {
        "id": "pauZU6KogGG-",
        "outputId": "313d9d44-6a7e-4a03-faed-64228385e841",
        "colab": {
          "base_uri": "https://localhost:8080/"
        }
      },
      "execution_count": 13,
      "outputs": [
        {
          "output_type": "execute_result",
          "data": {
            "text/plain": [
              "['./optimized_peanut_knn_model.pkl']"
            ]
          },
          "metadata": {},
          "execution_count": 13
        }
      ]
    },
    {
      "cell_type": "code",
      "source": [
        "import joblib\n",
        "\n",
        "loaded_model = joblib.load('./optimized_peanut_knn_model.pkl')\n",
        "test = np.array([[190, 30, 74]])\n",
        "res = loaded_model.predict(test)\n",
        "print(res)"
      ],
      "metadata": {
        "colab": {
          "base_uri": "https://localhost:8080/"
        },
        "id": "0xKkijPEMDSf",
        "outputId": "e49cca1d-3db6-4f67-8e4e-59280f661482"
      },
      "execution_count": 14,
      "outputs": [
        {
          "output_type": "stream",
          "name": "stdout",
          "text": [
            "[3]\n"
          ]
        }
      ]
    }
  ],
  "metadata": {
    "colab": {
      "collapsed_sections": [],
      "name": "optimized_peanut_knn_model.ipynb",
      "provenance": [],
      "include_colab_link": true
    },
    "kernelspec": {
      "display_name": "Python 3",
      "name": "python3"
    },
    "language_info": {
      "name": "python"
    }
  },
  "nbformat": 4,
  "nbformat_minor": 0
}