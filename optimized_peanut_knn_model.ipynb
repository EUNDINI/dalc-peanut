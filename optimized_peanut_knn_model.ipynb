{
  "cells": [
    {
      "cell_type": "markdown",
      "metadata": {
        "id": "view-in-github",
        "colab_type": "text"
      },
      "source": [
        "<a href=\"https://colab.research.google.com/github/kmsaidev/dalc-peanut/blob/ai/optimized_peanut_knn_model.ipynb\" target=\"_parent\"><img src=\"https://colab.research.google.com/assets/colab-badge.svg\" alt=\"Open In Colab\"/></a>"
      ]
    },
    {
      "cell_type": "code",
      "execution_count": 1,
      "metadata": {
        "id": "SNtN1jgY4dZ_"
      },
      "outputs": [],
      "source": [
        "import sys\n",
        "import numpy as np\n",
        "from sklearn.neighbors import KNeighborsClassifier\n",
        "from sklearn.model_selection import cross_val_score\n",
        "import matplotlib.pyplot as plt \n",
        "import joblib"
      ]
    },
    {
      "cell_type": "code",
      "execution_count": 2,
      "metadata": {
        "colab": {
          "base_uri": "https://localhost:8080/"
        },
        "id": "76_6avcR9G-1",
        "outputId": "b7dd021b-cc94-414c-ea68-810ae1fb6956"
      },
      "outputs": [
        {
          "output_type": "stream",
          "name": "stdout",
          "text": [
            "Drive already mounted at /content/drive; to attempt to forcibly remount, call drive.mount(\"/content/drive\", force_remount=True).\n"
          ]
        }
      ],
      "source": [
        "from google.colab import drive\n",
        "drive.mount('/content/drive')"
      ]
    },
    {
      "cell_type": "code",
      "source": [
        "r = []\n",
        "g = []\n",
        "b = []\n",
        "color_target = []\n",
        "cnt = 0\n",
        "with open(\"/content/drive/MyDrive/dalc_peanut/color_hex.txt\", 'r') as input:\n",
        "  lines = input.read().splitlines()\n",
        "  for line in lines:\n",
        "    line = line.replace(' ', '')\n",
        "    if line == \"\":\n",
        "        continue\n",
        "    elif line[-1] != '1' and line[-1] != '2' and line[-1] != '3' and line[-1] != '4':\n",
        "        continue\n",
        "    else:\n",
        "        cnt+=1\n",
        "        color_info = line.split(',')\n",
        "        r.append(int(color_info[0][1:3], 16))\n",
        "        g.append(int(color_info[0][3:5], 16))\n",
        "        b.append(int(color_info[0][5:7], 16))\n",
        "        color_target.append(int(color_info[1]))\n",
        "color_data = [[r, g, b] for r, g, b in zip(r, g, b)]\n",
        "\n",
        "input = np.array(color_data)\n",
        "target = np.array(color_target)\n",
        "np.random.seed(42)\n",
        "index = np.arange(cnt)\n",
        "np.random.shuffle(index)\n",
        "\n",
        "train_input = input[index[:900]]\n",
        "train_target = target[index[:900]]\n",
        "\n",
        "test_input = input[index[900:]]\n",
        "test_target = target[index[900:]]\n"
      ],
      "metadata": {
        "id": "nGrsiMW1RyHl"
      },
      "execution_count": 3,
      "outputs": []
    },
    {
      "cell_type": "code",
      "source": [
        "from sklearn.model_selection import cross_val_score\n",
        "k_range = input.shape[0]//2             \n",
        "k_list = []                \n",
        "\n",
        "for i in range(3, k_range, 2):\n",
        "  k_list.append(i)\n",
        "\n",
        "# print(k_list)"
      ],
      "metadata": {
        "id": "n74Sf_anwcqy"
      },
      "execution_count": 4,
      "outputs": []
    },
    {
      "cell_type": "code",
      "source": [
        "# 최적의 k값\n",
        "k_scores_k = []\n",
        "for k in k_list:\n",
        "  knn = KNeighborsClassifier(n_neighbors=k)\n",
        "  scores = cross_val_score(knn, input, target, cv = 10 , scoring = 'accuracy')\n",
        "  k_scores_k.append([k, scores.mean()])\n",
        "\n",
        "# print(k_scores_k) // k =3"
      ],
      "metadata": {
        "id": "WdvIY5AswiQ2"
      },
      "execution_count": 5,
      "outputs": []
    },
    {
      "cell_type": "code",
      "source": [
        "# 최적의 cv값 // k =3 (고정)\n",
        "\n",
        "k_scores_cv = []\n",
        "for i in range(2,50):\n",
        "  knn = KNeighborsClassifier(n_neighbors=3)\n",
        "  scores = cross_val_score(knn, input, target, cv = i , scoring = 'accuracy')\n",
        "  k_scores_cv.append([i, scores.mean()])\n",
        "\n",
        "# print(k_scores_cv)  // optimization = cv 10"
      ],
      "metadata": {
        "id": "i1_AG-IcwjT2"
      },
      "execution_count": 6,
      "outputs": []
    },
    {
      "cell_type": "code",
      "source": [
        "# 최종 모델\n",
        "\n",
        "knn = KNeighborsClassifier(n_neighbors=3)\n",
        "final_scores = cross_val_score(knn, input, target, cv =10 , scoring = 'accuracy')\n",
        "k_scores = final_scores.mean()\n",
        "\n",
        "# print(round(k_scores,3)) // 0.608\n",
        "\n",
        "knn = KNeighborsClassifier(n_neighbors=3)            \n",
        "knn.fit(train_input, train_target)\n",
        "joblib.dump(knn, '/content/drive/My Drive/dalc_peanut/dalc-peanut/optimized_peanut_knn_model.pkl')\n",
        "#knn.score(test_input, test_target)"
      ],
      "metadata": {
        "id": "pauZU6KogGG-",
        "outputId": "243e9a4a-69ac-4798-8823-44db057c5050",
        "colab": {
          "base_uri": "https://localhost:8080/"
        }
      },
      "execution_count": 7,
      "outputs": [
        {
          "output_type": "execute_result",
          "data": {
            "text/plain": [
              "['/content/drive/My Drive/dalc_peanut/dalc-peanut/optimized_peanut_knn_model.pkl']"
            ]
          },
          "metadata": {},
          "execution_count": 7
        }
      ]
    }
  ],
  "metadata": {
    "colab": {
      "collapsed_sections": [],
      "name": "optimized_peanut_knn_model.ipynb",
      "provenance": [],
      "include_colab_link": true
    },
    "kernelspec": {
      "display_name": "Python 3",
      "name": "python3"
    },
    "language_info": {
      "name": "python"
    }
  },
  "nbformat": 4,
  "nbformat_minor": 0
}