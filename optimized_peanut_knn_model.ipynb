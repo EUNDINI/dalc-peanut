{
  "cells": [
    {
      "cell_type": "markdown",
      "metadata": {
        "id": "view-in-github",
        "colab_type": "text"
      },
      "source": [
        "<a href=\"https://colab.research.google.com/github/kmsaidev/dalc-peanut/blob/ai/optimized_peanut_knn_model.ipynb\" target=\"_parent\"><img src=\"https://colab.research.google.com/assets/colab-badge.svg\" alt=\"Open In Colab\"/></a>"
      ]
    },
    {
      "cell_type": "code",
      "execution_count": 16,
      "metadata": {
        "id": "SNtN1jgY4dZ_"
      },
      "outputs": [],
      "source": [
        "import sys\n",
        "import numpy as np\n",
        "from sklearn.neighbors import KNeighborsClassifier\n",
        "from sklearn.model_selection import cross_val_score\n",
        "import matplotlib.pyplot as plt "
      ]
    },
    {
      "cell_type": "code",
      "execution_count": 17,
      "metadata": {
        "colab": {
          "base_uri": "https://localhost:8080/",
          "height": 279
        },
        "id": "76_6avcR9G-1",
        "outputId": "7185e692-1a71-4659-87a6-197a5d736256"
      },
      "outputs": [
        {
          "output_type": "display_data",
          "data": {
            "image/png": "[encoded data removed]",
            "text/plain": [
              "<Figure size 432x288 with 1 Axes>"
            ]
          },
          "metadata": {
            "needs_background": "light"
          }
        }
      ],
      "source": [
        "r = []\n",
        "g = []\n",
        "b = []\n",
        "color_target = []\n",
        "cnt = 0\n",
        "with open(\"color_hex.txt\", 'r') as input:\n",
        "  lines = input.read().splitlines()\n",
        "  for line in lines:\n",
        "    line = line.replace(' ', '')\n",
        "    if line == \"\":\n",
        "        continue\n",
        "    elif line[-1] != '1' and line[-1] != '2' and line[-1] != '3' and line[-1] != '4':\n",
        "        continue\n",
        "    else:\n",
        "        cnt+=1\n",
        "        color_info = line.split(',')\n",
        "        r.append(int(color_info[0][1:3], 16))\n",
        "        g.append(int(color_info[0][3:5], 16))\n",
        "        b.append(int(color_info[0][5:7], 16))\n",
        "        color_target.append(int(color_info[1]))\n",
        "color_data = [[r, g, b] for r, g, b in zip(r, g, b)]\n",
        "\n",
        "input = np.array(color_data)\n",
        "target = np.array(color_target)\n",
        "np.random.seed(42)\n",
        "index = np.arange(cnt)\n",
        "np.random.shuffle(index)\n",
        "\n",
        "train_input = input[index[:1043]]\n",
        "train_target = target[index[:1043]]\n",
        "\n",
        "test_input = input[index[1043:]]\n",
        "test_target = target[index[1043:]]\n",
        "\n",
        "from sklearn.model_selection import cross_val_score\n",
        "k_range = range(1,100)             \n",
        "k_score = []                       \n",
        "\n",
        "for k in k_range:\n",
        "  knn = KNeighborsClassifier(k)\n",
        "  scores = cross_val_score(knn, input, target, cv=10, scoring = \"accuracy\")  \n",
        "  k_score.append(scores.mean()) \n",
        "import matplotlib.pyplot as plt  \n",
        "plt.plot(k_range, k_score)\n",
        "plt.xlabel('Value of K for KNN')\n",
        "plt.ylabel('Cross-Validation Accuracy')\n",
        "plt.show() "
      ]
    },
    {
      "cell_type": "code",
      "source": [
        "knn = KNeighborsClassifier(3)            \n",
        "knn.fit(train_input, train_target)\n",
        "knn.score(test_input, test_target)"
      ],
      "metadata": {
        "colab": {
          "base_uri": "https://localhost:8080/"
        },
        "id": "nGrsiMW1RyHl",
        "outputId": "584b70b7-8cb0-4c50-87db-26635e2fd0d3"
      },
      "execution_count": 18,
      "outputs": [
        {
          "output_type": "execute_result",
          "data": {
            "text/plain": [
              "0.5747126436781609"
            ]
          },
          "metadata": {},
          "execution_count": 18
        }
      ]
    }
  ],
  "metadata": {
    "colab": {
      "collapsed_sections": [],
      "name": "optimized_peanut_knn_model.ipynb",
      "provenance": [],
      "authorship_tag": "ABX9TyPwARhfZYdGSsw3I4o55PWO",
      "include_colab_link": true
    },
    "kernelspec": {
      "display_name": "Python 3",
      "name": "python3"
    },
    "language_info": {
      "name": "python"
    }
  },
  "nbformat": 4,
  "nbformat_minor": 0
}