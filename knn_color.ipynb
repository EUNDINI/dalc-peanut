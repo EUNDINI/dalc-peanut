{
  "nbformat": 4,
  "nbformat_minor": 0,
  "metadata": {
    "colab": {
      "name": "knn_color",
      "provenance": [],
      "collapsed_sections": [],
      "mount_file_id": "17rcm_BSOEgdZ5WLz6zFq4p_l7QhBVzCk",
      "authorship_tag": "ABX9TyNVpWc+XE7YormnoICnLqyu",
      "include_colab_link": true
    },
    "kernelspec": {
      "name": "python3",
      "display_name": "Python 3"
    },
    "language_info": {
      "name": "python"
    }
  },
  "cells": [
    {
      "cell_type": "markdown",
      "metadata": {
        "id": "view-in-github",
        "colab_type": "text"
      },
      "source": [
        "<a href=\"https://colab.research.google.com/github/podongx2somm/dalc-peanut/blob/main/knn_color.ipynb\" target=\"_parent\"><img src=\"https://colab.research.google.com/assets/colab-badge.svg\" alt=\"Open In Colab\"/></a>"
      ]
    },
    {
      "cell_type": "code",
      "execution_count": 1,
      "metadata": {
        "id": "N1sNSyBA3Cqv"
      },
      "outputs": [],
      "source": [
        "import sys\n",
        "import numpy as np\n",
        "from sklearn.neighbors import KNeighborsClassifier\n",
        "from sklearn.model_selection import cross_val_score\n",
        "import matplotlib.pyplot as plt "
      ]
    },
    {
      "cell_type": "code",
      "source": [
        "from google.colab import drive\n",
        "drive.mount('/content/drive')"
      ],
      "metadata": {
        "colab": {
          "base_uri": "https://localhost:8080/"
        },
        "id": "XwTrRYLh4Vzh",
        "outputId": "37cfe896-efc2-41d6-f83c-7526b9307499"
      },
      "execution_count": 2,
      "outputs": [
        {
          "output_type": "stream",
          "name": "stdout",
          "text": [
            "Mounted at /content/drive\n"
          ]
        }
      ]
    },
    {
      "cell_type": "code",
      "source": [
        "r = []\n",
        "g = []\n",
        "b = []\n",
        "color_target = []\n",
        "cnt = 0\n",
        "with open(\"/content/drive/MyDrive/peanut프로젝트/color_hex.txt\", 'r') as input:\n",
        "  lines = input.read().splitlines()\n",
        "  for line in lines:\n",
        "    line = line.replace(' ', '')\n",
        "    if line == \"\":\n",
        "        continue\n",
        "    elif line[-1] != '1' and line[-1] != '2' and line[-1] != '3' and line[-1] != '4':\n",
        "        continue\n",
        "    else:\n",
        "        cnt+=1\n",
        "        color_info = line.split(',')\n",
        "        r.append(int(color_info[0][1:3], 16))\n",
        "        g.append(int(color_info[0][3:5], 16))\n",
        "        b.append(int(color_info[0][5:7], 16))\n",
        "        color_target.append(int(color_info[1]))\n",
        "color_data = [[r, g, b] for r, g, b in zip(r, g, b)]\n",
        "\n",
        "input = np.array(color_data)\n",
        "target = np.array(color_target)\n",
        "np.random.seed(42)\n",
        "index = np.arange(cnt)\n",
        "np.random.shuffle(index)\n",
        "\n",
        "train_input = input[index[:1043]]\n",
        "train_target = target[index[:1043]]\n",
        "\n",
        "test_input = input[index[1043:]]\n",
        "test_target = target[index[1043:]]"
      ],
      "metadata": {
        "id": "_KoyPnG6ilaC"
      },
      "execution_count": 3,
      "outputs": []
    },
    {
      "cell_type": "code",
      "source": [
        "from sklearn.model_selection import cross_val_score\n",
        "k_range = input.shape[0]//2             \n",
        "k_list = []                \n",
        "\n",
        "for i in range(3, k_range, 2):\n",
        "  k_list.append(i)\n",
        "\n",
        "# print(k_list)"
      ],
      "metadata": {
        "id": "RC7ryeXrirra"
      },
      "execution_count": 4,
      "outputs": []
    },
    {
      "cell_type": "code",
      "source": [
        "# 최적의 k값\n",
        "k_scores_k = []\n",
        "for k in k_list:\n",
        "  knn = KNeighborsClassifier(n_neighbors=k)\n",
        "  scores = cross_val_score(knn, input, target, cv = 10 , scoring = 'accuracy')\n",
        "  k_scores_k.append([k, scores.mean()])\n",
        "\n",
        "# print(k_scores_k)  // k=3\n",
        "\n"
      ],
      "metadata": {
        "id": "ZjnWqtyn4Fxs"
      },
      "execution_count": 6,
      "outputs": []
    },
    {
      "cell_type": "code",
      "source": [
        "# 최적의 cv값 // k =3 (고정)\n",
        "\n",
        "k_scores_cv = []\n",
        "for i in range(2,50):\n",
        "  knn = KNeighborsClassifier(n_neighbors=3)\n",
        "  scores = cross_val_score(knn, input, target, cv = i , scoring = 'accuracy')\n",
        "  k_scores_cv.append([i, scores.mean()])\n",
        "\n",
        "# print(k_scores_cv)  // max = cv 39  0.612\n"
      ],
      "metadata": {
        "id": "IPvDx89omAG6"
      },
      "execution_count": null,
      "outputs": []
    },
    {
      "cell_type": "code",
      "source": [
        "# 최종 모델\n",
        "\n",
        "knn = KNeighborsClassifier(n_neighbors=3)\n",
        "final_scores = cross_val_score(knn, input, target, cv =10 , scoring = 'accuracy')\n",
        "k_scores = final_scores.mean()\n",
        "\n",
        "print(round(k_scores,3))"
      ],
      "metadata": {
        "colab": {
          "base_uri": "https://localhost:8080/"
        },
        "id": "f72WT0ePUezI",
        "outputId": "0937ee44-65d7-435e-e8f4-36eace7eddcd"
      },
      "execution_count": 21,
      "outputs": [
        {
          "output_type": "stream",
          "name": "stdout",
          "text": [
            "0.608\n"
          ]
        }
      ]
    }
  ]
}