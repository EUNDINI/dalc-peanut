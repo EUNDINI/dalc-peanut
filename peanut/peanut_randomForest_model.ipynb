{
  "nbformat": 4,
  "nbformat_minor": 0,
  "metadata": {
    "colab": {
      "name": "peanut_randomForest_model.ipynb",
      "provenance": [],
      "collapsed_sections": [],
      "authorship_tag": "ABX9TyPulc1g2vbLlylBgTOEsK4K",
      "include_colab_link": true
    },
    "kernelspec": {
      "name": "python3",
      "display_name": "Python 3"
    },
    "language_info": {
      "name": "python"
    }
  },
  "cells": [
    {
      "cell_type": "markdown",
      "metadata": {
        "id": "view-in-github",
        "colab_type": "text"
      },
      "source": [
        "<a href=\"https://colab.research.google.com/github/kmsaidev/dalc-peanut/blob/ai/peanut/peanut_randomForest_model.ipynb\" target=\"_parent\"><img src=\"https://colab.research.google.com/assets/colab-badge.svg\" alt=\"Open In Colab\"/></a>"
      ]
    },
    {
      "cell_type": "code",
      "execution_count": null,
      "metadata": {
        "id": "DCaga18nNVE2"
      },
      "outputs": [],
      "source": [
        "from sklearn.ensemble import RandomForestClassifier\n",
        "from sklearn.metrics import accuracy_score\n",
        "import numpy as np\n",
        "import sys"
      ]
    },
    {
      "cell_type": "code",
      "source": [
        "r = []\n",
        "g = []\n",
        "b = []\n",
        "color_target = []\n",
        "cnt = 0\n",
        "with open(\"color_hex.txt\", 'r') as input:\n",
        "  lines = input.read().splitlines()\n",
        "  for line in lines:\n",
        "    line = line.replace(' ', '')\n",
        "    if line == \"\":\n",
        "        continue\n",
        "    elif line[-1] != '1' and line[-1] != '2' and line[-1] != '3' and line[-1] != '4':\n",
        "        continue\n",
        "    else:\n",
        "        cnt+=1\n",
        "        color_info = line.split(',')\n",
        "        r.append(int(color_info[0][1:3], 16))\n",
        "        g.append(int(color_info[0][3:5], 16))\n",
        "        b.append(int(color_info[0][5:7], 16))\n",
        "        color_target.append(int(color_info[1]))\n",
        "color_data = [[r, g, b] for r, g, b in zip(r, g, b)]\n",
        "\n",
        "input = np.array(color_data)\n",
        "target = np.array(color_target)\n",
        "np.random.seed(42)\n",
        "index = np.arange(cnt)\n",
        "np.random.shuffle(index)\n",
        "\n",
        "train_input = input[index[:460]]\n",
        "train_target = target[index[:460]]\n",
        "\n",
        "test_input = input[index[460:]]\n",
        "test_target = target[index[460:]]\n",
        "\n",
        "forest = RandomForestClassifier(n_estimators=10)\n",
        "forest.fit(train_input, train_target)\n",
        "forest.score(test_input, test_target)"
      ],
      "metadata": {
        "id": "dDYZrxEhNZAo",
        "colab": {
          "base_uri": "https://localhost:8080/"
        },
        "outputId": "d9be4fae-d902-4c97-cd2e-fb5dd4b76318"
      },
      "execution_count": 12,
      "outputs": [
        {
          "output_type": "execute_result",
          "data": {
            "text/plain": [
              "0.5517241379310345"
            ]
          },
          "metadata": {},
          "execution_count": 12
        }
      ]
    }
  ]
}